{
 "cells": [
  {
   "cell_type": "markdown",
   "id": "5a999634",
   "metadata": {},
   "source": [
    "# Ejercicios Básicos de Programación en Python\n",
    "**Autor:** Carlos Tlali Rosales  \n",
    "**Repositorio de Prácticas | Ciencia de Datos y Programación**\n",
    "\n",
    "---\n",
    "\n",
    "## ✏️ Descripción\n",
    "Este notebook contiene una serie de ejercicios introductorios diseñados para reforzar la lógica de programación y el uso de estructuras condicionales básicas en Python. Cada ejercicio solicita datos a la persona usuaria e imprime una respuesta con base en condiciones `if`, `elif` y `else`.\n",
    "\n",
    "---\n",
    "\n",
    "## 📌 Lista de Ejercicios\n",
    "\n",
    "1. Solicita dos números y muestra el mayor.  \n",
    "2. Indica si un porcentaje de crecimiento es positivo, negativo o neutro.  \n",
    "3. Determina si una letra es vocal o consonante.  \n",
    "4. Lee tres precios anuales de un coche y muestra el más alto y el más bajo.  \n",
    "5. Pide el precio de tres productos y muestra el más barato.  \n",
    "6. Ordena tres números de forma descendente.  \n",
    "7. Pide el turno (mañana, tarde o noche) y muestra un saludo apropiado.  \n",
    "8. Determina si un número entero es par o impar.  \n",
    "9. Determina si un número es entero o decimal.\n",
    "\n",
    "---\n",
    "\n",
    "## 💡 Requisitos previos\n",
    "- Python 3.x  \n",
    "- Entorno Jupyter (VS Code, Jupyter Lab o Google Colab)\n",
    "\n",
    "---\n",
    "\n",
    "## 🚀 Ejecución\n",
    "Puedes ejecutar cada celda presionando `Shift + Enter` o el botón ▶️ en el entorno Jupyter.  \n",
    "Este notebook está pensado para personas que se están iniciando en la programación.\n",
    "\n",
    "---\n",
    "\n",
    "## 🧠 Objetivo\n",
    "Fortalecer la lógica y comprensión de estructuras condicionales, fundamentales para programación y análisis de datos."
   ]
  },
  {
   "cell_type": "markdown",
   "id": "4b01577c",
   "metadata": {},
   "source": [
    "📌 Ejercicio 1: Número más grande entre dos"
   ]
  },
  {
   "cell_type": "code",
   "execution_count": 2,
   "id": "adbc3d0a",
   "metadata": {},
   "outputs": [
    {
     "name": "stdout",
     "output_type": "stream",
     "text": [
      "El número más grande es: 7.0\n"
     ]
    }
   ],
   "source": [
    "a = float(input(\"Ingresa el primer número: \"))\n",
    "b = float(input(\"Ingresa el segundo número: \"))\n",
    "\n",
    "if a > b:\n",
    "    print(f\"El número más grande es: {a}\")\n",
    "elif b > a:\n",
    "    print(f\"El número más grande es: {b}\")\n",
    "else:\n",
    "    print(\"Ambos números son iguales.\")\n"
   ]
  },
  {
   "cell_type": "markdown",
   "id": "0e8bcd6a",
   "metadata": {},
   "source": [
    "📌 Ejercicio 2: Porcentaje de crecimiento"
   ]
  },
  {
   "cell_type": "code",
   "execution_count": 4,
   "id": "4b7267da",
   "metadata": {},
   "outputs": [
    {
     "name": "stdout",
     "output_type": "stream",
     "text": [
      "Hubo un crecimiento.\n"
     ]
    }
   ],
   "source": [
    "porcentaje = float(input(\"Ingresa el porcentaje de crecimiento (%): \"))\n",
    "\n",
    "if porcentaje > 0:\n",
    "    print(\"Hubo un crecimiento.\")\n",
    "elif porcentaje < 0:\n",
    "    print(\"Hubo una disminución.\")\n",
    "else:\n",
    "    print(\"No hubo cambio.\")"
   ]
  },
  {
   "cell_type": "markdown",
   "id": "07920343",
   "metadata": {},
   "source": [
    "📌 Ejercicio 3: Vocal o consonante"
   ]
  },
  {
   "cell_type": "code",
   "execution_count": 5,
   "id": "d2227463",
   "metadata": {},
   "outputs": [
    {
     "name": "stdout",
     "output_type": "stream",
     "text": [
      "Es una consonante.\n"
     ]
    }
   ],
   "source": [
    "letra = input(\"Ingresa una letra: \").lower()\n",
    "\n",
    "if letra in \"aeiou\":\n",
    "    print(\"Es una vocal.\")\n",
    "elif letra.isalpha():\n",
    "    print(\"Es una consonante.\")\n",
    "else:\n",
    "    print(\"No es una letra válida.\")\n"
   ]
  },
  {
   "cell_type": "markdown",
   "id": "9b88047a",
   "metadata": {},
   "source": [
    "📌 Ejercicio 4: Precio más alto y más bajo"
   ]
  },
  {
   "cell_type": "code",
   "execution_count": 6,
   "id": "ce5ff885",
   "metadata": {},
   "outputs": [
    {
     "name": "stdout",
     "output_type": "stream",
     "text": [
      "El valor más alto fue: 74.0\n",
      "El valor más bajo fue: 50.0\n"
     ]
    }
   ],
   "source": [
    "a1 = float(input(\"Precio en el primer año: \"))\n",
    "a2 = float(input(\"Precio en el segundo año: \"))\n",
    "a3 = float(input(\"Precio en el tercer año: \"))\n",
    "\n",
    "mayor = max(a1, a2, a3)\n",
    "menor = min(a1, a2, a3)\n",
    "\n",
    "print(f\"El valor más alto fue: {mayor}\")\n",
    "print(f\"El valor más bajo fue: {menor}\")\n"
   ]
  },
  {
   "cell_type": "markdown",
   "id": "af8b36ef",
   "metadata": {},
   "source": [
    "📌 Ejercicio 5: Producto más barato\n",
    "\n"
   ]
  },
  {
   "cell_type": "code",
   "execution_count": null,
   "id": "6a493643",
   "metadata": {},
   "outputs": [],
   "source": [
    "p1 = float(input(\"Precio del producto 1: \"))\n",
    "p2 = float(input(\"Precio del producto 2: \"))\n",
    "p3 = float(input(\"Precio del producto 3: \"))\n",
    "\n",
    "menor = min(p1, p2, p3)\n",
    "\n",
    "print(f\"El producto más barato cuesta: ${menor}\")\n"
   ]
  },
  {
   "cell_type": "markdown",
   "id": "0982bb68",
   "metadata": {},
   "source": [
    "📌 Ejercicio 6: Orden descendente"
   ]
  },
  {
   "cell_type": "code",
   "execution_count": null,
   "id": "b185d55e",
   "metadata": {},
   "outputs": [],
   "source": [
    "n1 = float(input(\"Número 1: \"))\n",
    "n2 = float(input(\"Número 2: \"))\n",
    "n3 = float(input(\"Número 3: \"))\n",
    "\n",
    "numeros = [n1, n2, n3]\n",
    "numeros.sort(reverse=True)\n",
    "\n",
    "print(\"Números en orden descendente:\", numeros)\n"
   ]
  },
  {
   "cell_type": "markdown",
   "id": "d4fd45ef",
   "metadata": {},
   "source": [
    "📌 Ejercicio 7: Turno de estudio"
   ]
  },
  {
   "cell_type": "code",
   "execution_count": 7,
   "id": "d184a632",
   "metadata": {},
   "outputs": [
    {
     "name": "stdout",
     "output_type": "stream",
     "text": [
      "¡Buenos Días!\n"
     ]
    }
   ],
   "source": [
    "turno = input(\"¿En qué turno estudias? (mañana/tarde/noche): \").lower()\n",
    "\n",
    "if turno == \"mañana\":\n",
    "    print(\"¡Buenos Días!\")\n",
    "elif turno == \"tarde\":\n",
    "    print(\"¡Buenas Tardes!\")\n",
    "elif turno == \"noche\":\n",
    "    print(\"¡Buenas Noches!\")\n",
    "else:\n",
    "    print(\"¡Valor Inválido!\")"
   ]
  },
  {
   "cell_type": "markdown",
   "id": "43d56a5e",
   "metadata": {},
   "source": [
    "📌 Ejercicio 8: Par o impar"
   ]
  },
  {
   "cell_type": "code",
   "execution_count": null,
   "id": "394d028a",
   "metadata": {},
   "outputs": [],
   "source": [
    "numero = int(input(\"Ingresa un número entero: \"))\n",
    "\n",
    "if numero % 2 == 0:\n",
    "    print(\"Es un número par.\")\n",
    "else:\n",
    "    print(\"Es un número impar.\")"
   ]
  },
  {
   "cell_type": "markdown",
   "id": "e41fa5e0",
   "metadata": {},
   "source": [
    "📌 Celda 10 – Ejercicio 9: Entero o decimal"
   ]
  },
  {
   "cell_type": "code",
   "execution_count": null,
   "id": "96be4d86",
   "metadata": {},
   "outputs": [],
   "source": [
    "numero = input(\"Ingresa un número: \")\n",
    "\n",
    "if '.' in numero:\n",
    "    print(\"Es un número decimal.\")\n",
    "else:\n",
    "    print(\"Es un número entero.\")"
   ]
  }
 ],
 "metadata": {
  "kernelspec": {
   "display_name": "Python 3",
   "language": "python",
   "name": "python3"
  },
  "language_info": {
   "codemirror_mode": {
    "name": "ipython",
    "version": 3
   },
   "file_extension": ".py",
   "mimetype": "text/x-python",
   "name": "python",
   "nbconvert_exporter": "python",
   "pygments_lexer": "ipython3",
   "version": "3.13.3"
  }
 },
 "nbformat": 4,
 "nbformat_minor": 5
}
